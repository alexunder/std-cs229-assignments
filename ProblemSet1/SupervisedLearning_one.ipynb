{
 "cells": [
  {
   "cell_type": "markdown",
   "metadata": {},
   "source": [
    "# 1. Logistic regression\n",
    "\n",
    "## Problem 1\n",
    "\n",
    "Consider the average empirical loss (the risk) for logistic regression:\n",
    "\n",
    "$$\n",
    "J(\\theta)=\\frac{1}{m} \\sum_{i=1}^m \\log(1 + e^{-y^{(i)}\\theta^T x^{(i)}}) = - \\frac{1}{m} log(h_\\theta (y^{(i)} x^{(i)}))\\tag{1}\n",
    "$$\n",
    "\n",
    "Where $y^{(i)}  \\in \\{-1,1\\}, h_\\theta(x)=g(\\theta^Tx)$ and $g(z) = 1/(1+e^{-z})$. Find the Hessian H of this function, and show that for any vector z, it holds true that\n",
    "\n",
    "$$\n",
    "z^THz \\ge 0 \\tag{2}\n",
    "$$\n",
    "\n",
    "### My Solution\n",
    "\n",
    "We know that the Hessain matrix is the second order partial derivative of the function $J(\\theta)$. Therefore the first order partial derivative: the gradient matrix should be computed firstly.\n",
    "\n",
    "The offical gradient of a matrix function is defined as below:\n",
    "\n",
    "$$\n",
    "\\nabla f(x)= \\begin{bmatrix}\n",
    "    \\frac{\\partial}{\\partial x_1}f(x)\\\\\n",
    "    \\vdots \\\\\n",
    "    \\frac{\\partial}{\\partial x_n}f(x)\\\\\n",
    "\\end{bmatrix} \\tag{3}\n",
    "$$\n",
    "\n",
    "where\n",
    "\n",
    "$$\n",
    "x = \\begin{bmatrix}\n",
    "    x_1 \\\\\n",
    "    \\vdots \\\\\n",
    "    x_n \\\\\n",
    "\\end{bmatrix}\n",
    "$$\n",
    "\n",
    "So We computed the first order partial derivative $J(\\theta)$ against $\\theta_j$\n",
    "\n",
    "$$\n",
    "\\frac{\\partial J(\\theta)}{\\partial \\theta_j}=\\frac{1}{m} \\sum_{i=1}^m \\frac{e^{-y^{(i)}\\theta^T x^{(i)}}}{1 + e^{-y^{(i)}\\theta^T x^{(i)}}} (-y^{(i)}x^{(i)}_k) \\tag{4}\n",
    "$$\n",
    "\n",
    "And we also know that:\n",
    "\n",
    "$$\n",
    "g(-y^{(i)}\\theta^T x^{(i)})=sigmoid(-y^{(i)}\\theta^T x^{(i)}) = h_\\theta(-y^{(i)} x^{(i)}) \\tag{5}\n",
    "$$\n",
    "\n",
    "$$\n",
    "\\frac{\\partial J(\\theta)}{\\partial \\theta_j}=\\frac{1}{m} \\sum_{i=1}^m h_\\theta(-y^{(i)} x^{(i)}) (-y^{(i)} x^{(i)}_j) \\tag{6}\n",
    "$$\n",
    "\n",
    "So the gradient of $J(\\theta)$\n",
    "\n",
    "$$\n",
    "\\nabla J(\\theta) = \\frac{1}{m} \\sum_{i=1}^m h_\\theta(-y^{(i)} x^{(i)}) (-y^{(i)} x^{(i)}) \\tag{7}\n",
    "$$"
   ]
  },
  {
   "cell_type": "markdown",
   "metadata": {},
   "source": [
    "## Problem 2\n",
    "\n",
    "We have provided two data files:\n",
    "- logistic_x.txt\n",
    "- logistic_y.txt\n",
    "\n",
    "These files contain the inputs $(x^{(i)} \\in R^2)$ and outputs $(y(i) \\in \\{−1, 1\\})$, respectively for a binary classification problem, with one training example per row. Implement Newton’s method for optimizing $J(\\theta)$, and apply it to fit a logistic regression model to the data. Initialize Newton’s method with $\\theta = 0$ (the vector of all zeros). What are the coefficients $\\theta$ resulting from your fit? (Remember to include the intercept term.)\n",
    "\n",
    "### My Solution \n",
    "\n",
    "Let's load the dataset firstly:"
   ]
  },
  {
   "cell_type": "code",
   "execution_count": 1,
   "metadata": {},
   "outputs": [],
   "source": [
    "import numpy as np\n",
    "from mohism_utils import sigmoid\n",
    "import matplotlib.pyplot as plt\n",
    "\n",
    "def load_dataset():\n",
    "    train_X = np.loadtxt('logistic_x.txt')\n",
    "    train_Y = np.loadtxt('logistic_y.txt')\n",
    "    train_Y = train_Y.reshape(1, -1)\n",
    "    return train_X.T, train_Y"
   ]
  },
  {
   "cell_type": "code",
   "execution_count": 2,
   "metadata": {},
   "outputs": [
    {
     "name": "stdout",
     "output_type": "stream",
     "text": [
      "train_X:Size:(2, 99)\n",
      "train_Y:Size:(1, 99)\n"
     ]
    }
   ],
   "source": [
    "train_X, train_Y = load_dataset()\n",
    "print(\"train_X:Size:\" + str(train_X.shape))\n",
    "print(\"train_Y:Size:\" + str(train_Y.shape))"
   ]
  },
  {
   "cell_type": "code",
   "execution_count": 3,
   "metadata": {},
   "outputs": [],
   "source": [
    "def initialize_with_zeros(dim):\n",
    "    theta = np.zeros((dim, 1))\n",
    "    b = 0\n",
    "    return theta, b"
   ]
  },
  {
   "cell_type": "code",
   "execution_count": 4,
   "metadata": {
    "collapsed": true
   },
   "outputs": [],
   "source": [
    "def compute_gradient(X, Y, w, b):\n",
    "    \"\"\"\n",
    "    Arguments:\n",
    "    X -- data of size (2, number of examples)\n",
    "    Y -- true \"label\" vector (containing -1 or 1) of size (1, number of examples) \n",
    "    w -- weights, a numpy array of size (2, 1)\n",
    "    b -- scalor, bias\n",
    "    \"\"\"\n",
    "    m = Y.shape[1]\n",
    "    X = np.row_stack((X, np.ones((1, m))))\n",
    "    theta = np.row_stack((w, b))\n",
    "    Y_computed = np.dot(theta.T, X)\n",
    "    Z = sigmoid(- Y * Y_computed)\n",
    "    Y_m_X = - Y * X\n",
    "    ret = np.dot(Z, Y_m_X.T)\n",
    "    return ret/m"
   ]
  },
  {
   "cell_type": "code",
   "execution_count": 5,
   "metadata": {},
   "outputs": [
    {
     "name": "stdout",
     "output_type": "stream",
     "text": [
      "w size=(2, 1)\n",
      "X size=(2, 3)\n",
      "Y size=(1, 3)\n",
      "Gradient=[[  9.98456015e-01   2.39507239e+00   1.45557814e-03]]\n"
     ]
    }
   ],
   "source": [
    "X = np.array([[1.,2.,-1.],[3.,4.,-3.2]])\n",
    "Y = np.array([[1,-1,1]])\n",
    "w, b = np.array([[1.],[2.]]), 2.\n",
    "\n",
    "print(\"w size=\" + str(w.shape))\n",
    "print(\"X size=\" + str(X.shape))\n",
    "print(\"Y size=\" + str(Y.shape))\n",
    "\n",
    "gradient = compute_gradient(X, Y, w, b)\n",
    "print(\"Gradient=\" + str(gradient))"
   ]
  },
  {
   "cell_type": "code",
   "execution_count": 6,
   "metadata": {},
   "outputs": [],
   "source": [
    "def compute_hessian(X, w, b):\n",
    "    \"\"\"\n",
    "    Arguments:\n",
    "    X -- data of size (2, number of examples)\n",
    "    w -- weights, a numpy array of size (2, 1)\n",
    "    b -- scalor, bias\n",
    "    \"\"\"\n",
    "    m = X.shape[1]\n",
    "    X = np.row_stack((X, np.ones((1, m))))\n",
    "    theta = np.row_stack((w, b))\n",
    "    sm =  sigmoid(np.dot(theta.T, X))\n",
    "    derivative_sm = sm * (1 - sm)\n",
    "    diag_d_sm = np.diag(derivative_sm.flatten())\n",
    "    hessian = np.dot(X, diag_d_sm)\n",
    "    hessian = np.dot(hessian, X.T)\n",
    "    return hessian / m"
   ]
  },
  {
   "cell_type": "code",
   "execution_count": 7,
   "metadata": {},
   "outputs": [
    {
     "name": "stdout",
     "output_type": "stream",
     "text": [
      "w size=(2, 1)\n",
      "X size=(2, 3)\n",
      "Y size=(1, 3)\n",
      "Gradient=[[  9.98456015e-01   2.39507239e+00   1.45557814e-03]]\n",
      "Hessian=[[ 0.00154134  0.00491422 -0.0014468 ]\n",
      " [ 0.00491422  0.01568118 -0.00464289]\n",
      " [-0.0014468  -0.00464289  0.00153519]]\n"
     ]
    }
   ],
   "source": [
    "X = np.array([[1.,2.,-1.],[3.,4.,-3.2]])\n",
    "Y = np.array([[1,-1,1]])\n",
    "w, b = np.array([[1.],[2.]]), 2.\n",
    "\n",
    "print(\"w size=\" + str(w.shape))\n",
    "print(\"X size=\" + str(X.shape))\n",
    "print(\"Y size=\" + str(Y.shape))\n",
    "\n",
    "gradient = compute_gradient(X, Y, w, b)\n",
    "print(\"Gradient=\" + str(gradient))\n",
    "hessian = compute_hessian(X, w, b)\n",
    "print(\"Hessian=\" + str(hessian))"
   ]
  },
  {
   "cell_type": "code",
   "execution_count": 8,
   "metadata": {},
   "outputs": [],
   "source": [
    "def logistic_regression(X, Y):\n",
    "    \"\"\"\n",
    "    Arguments:\n",
    "    X -- data of size (2, number of examples)\n",
    "    Y -- true \"label\" vector (containing -1 or 1) of size (1, number of examples) \n",
    "    \"\"\"\n",
    "    dim = X.shape[0]\n",
    "    w, b = initialize_with_zeros(dim)\n",
    "    theta = np.row_stack((w, b))\n",
    "\n",
    "    while True:\n",
    "        gradient = compute_gradient(X, Y, theta[0:2], theta[2])\n",
    "        hessian = compute_hessian(X, theta[0:2], theta[2])\n",
    "\n",
    "        if np.less(np.fabs(gradient), np.array([0.0001, 0.0001, 0.0001])).all():\n",
    "            break\n",
    "        theta = theta - np.dot(np.linalg.inv(hessian), gradient.T)\n",
    "        \n",
    "    return theta[0:2], theta[2]"
   ]
  },
  {
   "cell_type": "code",
   "execution_count": 9,
   "metadata": {},
   "outputs": [
    {
     "name": "stdout",
     "output_type": "stream",
     "text": [
      "final:w=[[ 0.76037096]\n",
      " [ 1.17194549]]\n",
      "final:b=[-2.62050954]\n"
     ]
    }
   ],
   "source": [
    "w, b = logistic_regression(train_X, train_Y)\n",
    "print(\"final:w=\" + str(w))\n",
    "print(\"final:b=\" + str(b))"
   ]
  },
  {
   "cell_type": "code",
   "execution_count": 10,
   "metadata": {},
   "outputs": [
    {
     "name": "stdout",
     "output_type": "stream",
     "text": [
      "x_min=-0.42920059\n",
      "x_max=8.7054006\n"
     ]
    },
    {
     "data": {
      "image/png": "[encoded data removed]",
      "text/plain": [
       "<matplotlib.figure.Figure at 0x10d587128>"
      ]
     },
     "metadata": {},
     "output_type": "display_data"
    }
   ],
   "source": [
    "h = 0.02\n",
    "x_min, x_max = train_X[0, :].min() - 1, train_X[0, :].max() + 1\n",
    "y_min, y_max = train_X[1, :].min() - 1, train_X[1, :].max() + 1\n",
    "xx, yy = np.meshgrid(np.arange(x_min, x_max, h),\n",
    "                     np.arange(y_min, y_max, h))\n",
    "\n",
    "fig = plt.figure()\n",
    "plt.scatter(train_X[0, :], train_X[1, :], c=train_Y[0,:], s=40, cmap=plt.cm.Spectral)\n",
    "plt.xlim(xx.min(), xx.max())\n",
    "plt.ylim(yy.min(), yy.max())\n",
    "\n",
    "plt.ylabel('x2')\n",
    "plt.xlabel('x1')\n",
    "\n",
    "print(\"x_min=\" + str(x_min))\n",
    "print(\"x_max=\" + str(x_max))\n",
    "\n",
    "# Draw classifier line\n",
    "x1 = 0\n",
    "y1 = - (w[0] * x1 + b) / w[1]\n",
    "x2 = 8\n",
    "y2 = - (w[0] * x2 + b) / w[1]\n",
    "\n",
    "plt.plot([x1, x2], [y1, y2])\n",
    "plt.show()"
   ]
  },
  {
   "cell_type": "code",
   "execution_count": null,
   "metadata": {
    "collapsed": true
   },
   "outputs": [],
   "source": []
  }
 ],
 "metadata": {
  "kernelspec": {
   "display_name": "Python 3",
   "language": "python",
   "name": "python3"
  },
  "language_info": {
   "codemirror_mode": {
    "name": "ipython",
    "version": 3
   },
   "file_extension": ".py",
   "mimetype": "text/x-python",
   "name": "python",
   "nbconvert_exporter": "python",
   "pygments_lexer": "ipython3",
   "version": "3.6.2"
  }
 },
 "nbformat": 4,
 "nbformat_minor": 2
}
