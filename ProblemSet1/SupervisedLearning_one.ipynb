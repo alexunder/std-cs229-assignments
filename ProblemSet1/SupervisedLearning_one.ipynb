{
 "cells": [
  {
   "cell_type": "markdown",
   "metadata": {},
   "source": [
    "# 1. Logistic regression\n",
    "\n",
    "## Problem 1\n",
    "\n",
    "Consider the average empirical loss (the risk) for logistic regression:\n",
    "\n",
    "$$\n",
    "J(\\theta)=\\frac{1}{m} \\sum_{i=1}^m \\log(1 + e^{-y^{(i)}\\theta^T x^{(i)}}) = - \\frac{1}{m} log(h_\\theta (y^{(i)} x^{(i)}))\\tag{1}\n",
    "$$\n",
    "\n",
    "Where $y^{(i)}  \\in \\{-1,1\\}, h_\\theta(x)=g(\\theta^Tx)$ and $g(z) = 1/(1+e^{-z})$. Find the Hessian H of this function, and show that for any vector z, it holds true that\n",
    "\n",
    "$$\n",
    "z^THz \\ge 0 \\tag{2}\n",
    "$$"
   ]
  },
  {
   "cell_type": "markdown",
   "metadata": {},
   "source": [
    "### My Solution\n",
    "\n",
    "We know that the Hessain matrix is the second order partial derivative of the function $J(\\theta)$. Therefore the first order partial derivative: the gradient matrix should be computed firstly.\n",
    "\n",
    "The offical gradient of a matrix function is defined as below:\n",
    "\n",
    "$$\n",
    "\\nabla f(x)= \\begin{bmatrix}\n",
    "    \\frac{\\partial}{\\partial x_1}f(x)\\\\\n",
    "    \\vdots \\\\\n",
    "    \\frac{\\partial}{\\partial x_n}f(x)\\\\\n",
    "\\end{bmatrix} \\tag{3}\n",
    "$$\n",
    "\n",
    "where\n",
    "\n",
    "$$\n",
    "x = \\begin{bmatrix}\n",
    "    x_1 \\\\\n",
    "    \\vdots \\\\\n",
    "    x_n \\\\\n",
    "\\end{bmatrix}\n",
    "$$\n",
    "\n",
    "So We computed the first order partial derivative $J(\\theta)$ against $\\theta_j$\n",
    "\n",
    "$$\n",
    "\\frac{\\partial J(\\theta)}{\\partial \\theta_j}=\\frac{1}{m} \\sum_{i=1}^m \\frac{e^{-y^{(i)}\\theta^T x^{(i)}}}{1 + e^{-y^{(i)}\\theta^T x^{(i)}}} (-y^{(i)}x^{(i)}_k) \\tag{4}\n",
    "$$\n",
    "\n",
    "And we also know that:\n",
    "\n",
    "$$\n",
    "g(-y^{(i)}\\theta^T x^{(i)})=sigmoid(-y^{(i)}\\theta^T x^{(i)}) = h_\\theta(-y^{(i)} x^{(i)}) \\tag{5}\n",
    "$$\n",
    "\n",
    "$$\n",
    "\\frac{\\partial J(\\theta)}{\\partial \\theta_j}=\\frac{1}{m} \\sum_{i=1}^m h_\\theta(-y^{(i)} x^{(i)}) (-y^{(i)} x^{(i)}_j) \\tag{6}\n",
    "$$\n",
    "\n",
    "So the gradient of $J(\\theta)$\n",
    "\n",
    "$$\n",
    "\\nabla J(\\theta) = \\frac{1}{m} \\sum_{i=1}^m h_\\theta(-y^{(i)} x^{(i)}) (-y^{(i)} x^{(i)}) \\tag{7}\n",
    "$$\n",
    "\n",
    "Now let's compute the Hessian matrix, before getting the final target, the derivative of the sigmoid function should be clear:\n",
    "\n",
    "We know that $g(z) = 1/(1+e^{-z})$, then we omit some simple calculations:\n",
    "\n",
    "$$\n",
    "g'(z) = g(z)(1 - g(z)) \\tag{8}\n",
    "$$\n",
    "\n",
    "Now with the direct result of sigmoid's derivative, the second order derivative of $J(\\theta)$ against$\\theta_k$ and $\\theta_l$:\n",
    "\n",
    "$$\n",
    "\\frac{\\partial^2 J(\\theta)}{\\partial \\theta_k \\partial \\theta_l}=\\frac{1}{m} \\sum_{i=1}^m h_\\theta(-y^{(i)} x^{(i)})(1 - h_\\theta(-y^{(i)}x^{(i)})(-y^{(i)}x^{(i)}_k)(-y^{(i)}x^{(i)}_l) \\tag{9}\n",
    "$$\n",
    "\n",
    "We can know that $h_\\theta(-y^{(i)} x^{(i)})(1 - h_\\theta(-y^{(i)}))$ is the even function, and  because $y^{(i)}  \\in \\{-1,1\\}$, we can eliminate all $y^{(i)}$s. Therefore the simpler version is below:\n",
    "\n",
    "$$\n",
    "\\frac{\\partial^2 J(\\theta)}{\\partial \\theta_k \\partial \\theta_l}=\\frac{1}{m} \\sum_{i=1}^m h_\\theta(x^{(i)})(1 - h_\\theta(x^{(i)})x^{(i)}_k x^{(i)}_l \\tag{10}\n",
    "$$"
   ]
  },
  {
   "cell_type": "markdown",
   "metadata": {},
   "source": [
    "## Problem 2\n",
    "\n",
    "We have provided two data files:\n",
    "- logistic_x.txt\n",
    "- logistic_y.txt\n",
    "\n",
    "These files contain the inputs $(x^{(i)} \\in R^2)$ and outputs $(y(i) \\in \\{−1, 1\\})$, respectively for a binary classification problem, with one training example per row. Implement Newton’s method for optimizing $J(\\theta)$, and apply it to fit a logistic regression model to the data. Initialize Newton’s method with $\\theta = 0$ (the vector of all zeros). What are the coefficients $\\theta$ resulting from your fit? (Remember to include the intercept term.)\n",
    "\n",
    "### My Solution \n",
    "\n",
    "Let's load the dataset firstly:"
   ]
  },
  {
   "cell_type": "code",
   "execution_count": 1,
   "metadata": {
    "collapsed": true
   },
   "outputs": [],
   "source": [
    "import numpy as np\n",
    "from mohism_utils import sigmoid\n",
    "import matplotlib.pyplot as plt\n",
    "\n",
    "def load_dataset():\n",
    "    train_X = np.loadtxt('logistic_x.txt')\n",
    "    train_Y = np.loadtxt('logistic_y.txt')\n",
    "    train_Y = train_Y.reshape(1, -1)\n",
    "    return train_X.T, train_Y"
   ]
  },
  {
   "cell_type": "code",
   "execution_count": 2,
   "metadata": {},
   "outputs": [
    {
     "name": "stdout",
     "output_type": "stream",
     "text": [
      "train_X:Size:(2, 99)\n",
      "train_Y:Size:(1, 99)\n"
     ]
    }
   ],
   "source": [
    "train_X, train_Y = load_dataset()\n",
    "print(\"train_X:Size:\" + str(train_X.shape))\n",
    "print(\"train_Y:Size:\" + str(train_Y.shape))"
   ]
  },
  {
   "cell_type": "code",
   "execution_count": 3,
   "metadata": {
    "collapsed": true
   },
   "outputs": [],
   "source": [
    "def initialize_with_zeros(dim):\n",
    "    theta = np.zeros((dim, 1))\n",
    "    b = 0\n",
    "    return theta, b"
   ]
  },
  {
   "cell_type": "code",
   "execution_count": 4,
   "metadata": {
    "collapsed": true
   },
   "outputs": [],
   "source": [
    "def compute_gradient(X, Y, w, b):\n",
    "    \"\"\"\n",
    "    Arguments:\n",
    "    X -- data of size (2, number of examples)\n",
    "    Y -- true \"label\" vector (containing -1 or 1) of size (1, number of examples) \n",
    "    w -- weights, a numpy array of size (2, 1)\n",
    "    b -- scalor, bias\n",
    "    \"\"\"\n",
    "    m = Y.shape[1]\n",
    "    X = np.row_stack((X, np.ones((1, m))))\n",
    "    theta = np.row_stack((w, b))\n",
    "    Y_computed = np.dot(theta.T, X)\n",
    "    Z = sigmoid(- Y * Y_computed)\n",
    "    Y_m_X = - Y * X\n",
    "    ret = np.dot(Z, Y_m_X.T)\n",
    "    return ret/m"
   ]
  },
  {
   "cell_type": "code",
   "execution_count": 5,
   "metadata": {},
   "outputs": [
    {
     "name": "stdout",
     "output_type": "stream",
     "text": [
      "w size=(2, 1)\n",
      "X size=(2, 3)\n",
      "Y size=(1, 3)\n",
      "Gradient=[[  9.98456015e-01   2.39507239e+00   1.45557814e-03]]\n"
     ]
    }
   ],
   "source": [
    "X = np.array([[1.,2.,-1.],[3.,4.,-3.2]])\n",
    "Y = np.array([[1,-1,1]])\n",
    "w, b = np.array([[1.],[2.]]), 2.\n",
    "\n",
    "print(\"w size=\" + str(w.shape))\n",
    "print(\"X size=\" + str(X.shape))\n",
    "print(\"Y size=\" + str(Y.shape))\n",
    "\n",
    "gradient = compute_gradient(X, Y, w, b)\n",
    "print(\"Gradient=\" + str(gradient))"
   ]
  },
  {
   "cell_type": "code",
   "execution_count": 6,
   "metadata": {
    "collapsed": true
   },
   "outputs": [],
   "source": [
    "def compute_hessian(X, w, b):\n",
    "    \"\"\"\n",
    "    Arguments:\n",
    "    X -- data of size (2, number of examples)\n",
    "    w -- weights, a numpy array of size (2, 1)\n",
    "    b -- scalor, bias\n",
    "    \"\"\"\n",
    "    m = X.shape[1]\n",
    "    X = np.row_stack((X, np.ones((1, m))))\n",
    "    theta = np.row_stack((w, b))\n",
    "    sm =  sigmoid(np.dot(theta.T, X))\n",
    "    derivative_sm = sm * (1 - sm)\n",
    "    diag_d_sm = np.diag(derivative_sm.flatten())\n",
    "    hessian = np.dot(X, diag_d_sm)\n",
    "    hessian = np.dot(hessian, X.T)\n",
    "    return hessian / m"
   ]
  },
  {
   "cell_type": "code",
   "execution_count": 7,
   "metadata": {},
   "outputs": [
    {
     "name": "stdout",
     "output_type": "stream",
     "text": [
      "w size=(2, 1)\n",
      "X size=(2, 3)\n",
      "Y size=(1, 3)\n",
      "Gradient=[[  9.98456015e-01   2.39507239e+00   1.45557814e-03]]\n",
      "Hessian=[[ 0.00154134  0.00491422 -0.0014468 ]\n",
      " [ 0.00491422  0.01568118 -0.00464289]\n",
      " [-0.0014468  -0.00464289  0.00153519]]\n"
     ]
    }
   ],
   "source": [
    "X = np.array([[1.,2.,-1.],[3.,4.,-3.2]])\n",
    "Y = np.array([[1,-1,1]])\n",
    "w, b = np.array([[1.],[2.]]), 2.\n",
    "\n",
    "print(\"w size=\" + str(w.shape))\n",
    "print(\"X size=\" + str(X.shape))\n",
    "print(\"Y size=\" + str(Y.shape))\n",
    "\n",
    "gradient = compute_gradient(X, Y, w, b)\n",
    "print(\"Gradient=\" + str(gradient))\n",
    "hessian = compute_hessian(X, w, b)\n",
    "print(\"Hessian=\" + str(hessian))"
   ]
  },
  {
   "cell_type": "code",
   "execution_count": 8,
   "metadata": {
    "collapsed": true
   },
   "outputs": [],
   "source": [
    "def logistic_regression(X, Y):\n",
    "    \"\"\"\n",
    "    Arguments:\n",
    "    X -- data of size (2, number of examples)\n",
    "    Y -- true \"label\" vector (containing -1 or 1) of size (1, number of examples) \n",
    "    \"\"\"\n",
    "    dim = X.shape[0]\n",
    "    w, b = initialize_with_zeros(dim)\n",
    "    theta = np.row_stack((w, b))\n",
    "\n",
    "    while True:\n",
    "        gradient = compute_gradient(X, Y, theta[0:2], theta[2])\n",
    "        hessian = compute_hessian(X, theta[0:2], theta[2])\n",
    "\n",
    "        if np.less(np.fabs(gradient), np.array([0.0001, 0.0001, 0.0001])).all():\n",
    "            break\n",
    "        theta = theta - np.dot(np.linalg.inv(hessian), gradient.T)\n",
    "        \n",
    "    return theta[0:2], theta[2]"
   ]
  },
  {
   "cell_type": "code",
   "execution_count": 9,
   "metadata": {},
   "outputs": [
    {
     "name": "stdout",
     "output_type": "stream",
     "text": [
      "final:w=[[ 0.76037096]\n",
      " [ 1.17194549]]\n",
      "final:b=[-2.62050954]\n"
     ]
    }
   ],
   "source": [
    "w, b = logistic_regression(train_X, train_Y)\n",
    "print(\"final:w=\" + str(w))\n",
    "print(\"final:b=\" + str(b))"
   ]
  },
  {
   "cell_type": "markdown",
   "metadata": {},
   "source": [
    "## Problem 3\n",
    "\n",
    "Plot the training data (your axes should be x1 and x2, corresponding to the two\n",
    "coordinates of the inputs, and you should use a different symbol for each point plotted to\n",
    "indicate whether that example had label 1 or -1). Also plot on the same figure the decision\n",
    "boundary fit by logistic regression. (This should be a straight line showing the boundary\n",
    "separating the region where $h_\\theta(x) > 0.5$ from where $h_\\theta(x) ≤ 0.5$.)\n",
    "\n",
    "### Solution"
   ]
  },
  {
   "cell_type": "code",
   "execution_count": 11,
   "metadata": {},
   "outputs": [
    {
     "name": "stdout",
     "output_type": "stream",
     "text": [
      "x_min=-0.42920059\n",
      "x_max=8.7054006\n"
     ]
    },
    {
     "data": {
      "image/png": "[encoded data removed]",
      "text/plain": [
       "<matplotlib.figure.Figure at 0x10eb3a828>"
      ]
     },
     "metadata": {},
     "output_type": "display_data"
    }
   ],
   "source": [
    "h = 0.02\n",
    "x_min, x_max = train_X[0, :].min() - 1, train_X[0, :].max() + 1\n",
    "y_min, y_max = train_X[1, :].min() - 1, train_X[1, :].max() + 1\n",
    "xx, yy = np.meshgrid(np.arange(x_min, x_max, h),\n",
    "                     np.arange(y_min, y_max, h))\n",
    "# Draw data points \n",
    "fig = plt.figure()\n",
    "plt.scatter(train_X[0, :], train_X[1, :], c=train_Y[0,:], s=40, cmap=plt.cm.Spectral)\n",
    "plt.xlim(xx.min(), xx.max())\n",
    "plt.ylim(yy.min(), yy.max())\n",
    "\n",
    "plt.ylabel('x2')\n",
    "plt.xlabel('x1')\n",
    "\n",
    "print(\"x_min=\" + str(x_min))\n",
    "print(\"x_max=\" + str(x_max))\n",
    "\n",
    "# Draw classifier line\n",
    "x1 = 0\n",
    "y1 = - (w[0] * x1 + b) / w[1]\n",
    "x2 = 8\n",
    "y2 = - (w[0] * x2 + b) / w[1]\n",
    "\n",
    "plt.plot([x1, x2], [y1, y2])\n",
    "plt.show()"
   ]
  },
  {
   "cell_type": "markdown",
   "metadata": {},
   "source": [
    "# 5 Regression for denoising quasar spectra\n",
    "\n",
    "## Introduction \n",
    "\n",
    "In this problem, we will apply a supervised learning technique to estimate the\n",
    "light spectrum of quasars. Quasars are luminous distant galactic nuclei that are so bright, their\n",
    "light overwhelms that of stars in their galaxies. Understanding properties of the spectrum of\n",
    "light emitted by a quasar is useful for a number of tasks: first, a number of quasar properties\n",
    "can be estimated from the spectra, and second, properties of the regions of the universe through\n",
    "which the light passes can also be evaluated (for example, we can estimate the density of neutral\n",
    "and ionized particles in the universe, which helps cosmologists understand the evolution and\n",
    "fundamental laws governing its structure). The light spectrum is a curve that relates the light’s\n",
    "intensity (formally, lumens per square meter), or luminous flux, to its wavelength. Figure 1\n",
    "shows an example of a quasar light spectrum, where the wavelengths are measured in Angstroms\n",
    "($ \\unicode{x212B} $), where $1 \\unicode{x212B}= 10^{−10} meters $.\n",
    "\n",
    "## Getting the data\n",
    "\n",
    "We will be using data generated from the Hubble Space Telescope Faint\n",
    "Object Spectrograph (HST-FOS), Spectra of Active Galactic Nuclei and Quasars.5 We have\n",
    "provided two comma-separated data files located at:\n",
    "\n",
    "- Training set: quasar_train.csv\n",
    "- Test set: quasar_test.csv\n",
    "\n",
    "Each file contains a single header row containing 450 numbers corresponding integral wavelengths\n",
    "in the interval $[1150, 1600] \\unicode{x212B} $. The remaining lines contain relative flux measurements for each\n",
    "wavelength. Specifically, quasar train.csv contains 200 examples and quasar test.csv con-\n",
    "tains 50 examples."
   ]
  },
  {
   "cell_type": "code",
   "execution_count": 53,
   "metadata": {},
   "outputs": [],
   "source": [
    "import csv\n",
    "import numpy as np\n",
    "\n",
    "def load_quasar_data():\n",
    "    train_data = np.loadtxt('quasar_train.csv', dtype=np.float, delimiter=\",\")\n",
    "    light_lambdas = train_data[0]\n",
    "    light_lambdas = light_lambdas.reshape(1, -1)\n",
    "    #print(\"light_lambdas=\" + str(light_lambdas))\n",
    "    train_qso = train_data[1:]\n",
    "    test_data = np.loadtxt('quasar_test.csv', dtype=np.float, delimiter=\",\")\n",
    "    test_qso = test_data[1:]\n",
    "    return light_lambdas, train_qso, test_qso"
   ]
  },
  {
   "cell_type": "code",
   "execution_count": 54,
   "metadata": {},
   "outputs": [
    {
     "name": "stdout",
     "output_type": "stream",
     "text": [
      "light_lambdas: shape(1, 450)\n",
      "train_qso: shape(200, 450)\n",
      "test_qso: shape(50, 450)\n"
     ]
    }
   ],
   "source": [
    "# Load the data\n",
    "light_lambdas, train_qso, test_qso = load_quasar_data()\n",
    "print(\"light_lambdas: shape\" + str(light_lambdas.shape))\n",
    "print(\"train_qso: shape\" + str(train_qso.shape))\n",
    "print(\"test_qso: shape\" + str(test_qso.shape))"
   ]
  },
  {
   "cell_type": "markdown",
   "metadata": {},
   "source": [
    "## a. Locally weighted linear regression\n",
    "\n",
    "Consider a linear regression problem in which we want to “weight” different training examples differently. Specifically, suppose we want to minimize\n",
    "\n",
    "$$ J(\\theta)=\\frac{1}{2} \\sum_{i=1}^m w^{(i)} (\\theta^T x^{(i)} - y^{(i)})^2 \\tag{5.1} $$\n",
    "\n",
    "In class, we worked out what happens for the case where all the weights (the $w^{(i)}$’s) are the same. In this problem, we will generalize some of those ideas to the weighted setting."
   ]
  },
  {
   "cell_type": "markdown",
   "metadata": {},
   "source": [
    "### i \n",
    "\n",
    "Show that $J(\\theta)$ can also be written\n",
    "\n",
    "$$\n",
    "J(\\theta) = (X \\theta - Y)^T W (X \\theta - Y) \\tag{5.2}\n",
    "$$\n",
    "\n",
    "for an appropriate diagonal matrix W, and where X and Y are as defined in class. State\n",
    "clearly what W is."
   ]
  },
  {
   "cell_type": "markdown",
   "metadata": {},
   "source": [
    "#### Solution\n",
    "\n",
    "Let's define the design matrix X to be the m-by-n matrix\n",
    "\n",
    "$$\n",
    "X = \\begin{bmatrix}\n",
    "    (x^{(1)})^T \\\\\n",
    "    (x^{(2)})^T \\\\\n",
    "    \\vdots \\\\\n",
    "    (x^{(m)})^T \\\\\n",
    "\\end{bmatrix}\n",
    "$$\n",
    "\n",
    "And let Y be the m-dimensional vector containning all the target values from the trainning set:\n",
    "\n",
    "$$\n",
    "Y = \\begin{bmatrix}\n",
    "    y^{(1)} \\\\\n",
    "    y^{(2)} \\\\\n",
    "    \\vdots  \\\\\n",
    "    y^{(m)} \\\\\n",
    "\\end{bmatrix}\n",
    "$$\n",
    "\n",
    "Now since $h_\\theta(x^{(i)}) = (x^{(i)})^T \\theta$ We can easily verify that \n",
    "\n",
    "$$\n",
    "X\\theta - Y = \\begin{bmatrix}\n",
    "              (x^{(1)})^T \\theta \\\\\n",
    "              (x^{(2)})^T \\theta \\\\\n",
    "              \\vdots \\\\\n",
    "              (x^{(m)})^T \\theta \\\\\n",
    "              \\end{bmatrix}\n",
    "- \\begin{bmatrix}\n",
    "    y^{(1)}  \\\\\n",
    "    y^{(2)}  \\\\\n",
    "    \\vdots   \\\\\n",
    "    y^{(m)}  \\\\\n",
    "\\end{bmatrix}\n",
    "$$\n",
    "\n",
    "$$\n",
    "= \\begin{bmatrix}\n",
    "   h_\\theta(x^{(1)}) - y^{(1)} \\\\\n",
    "   h_\\theta(x^{(2)}) - y^{(2)} \\\\\n",
    "    \\vdots  \\\\\n",
    "   h_\\theta(x^{(m)}) - y^{(m)} \\\\\n",
    "\\end{bmatrix}\n",
    "$$\n",
    "\n",
    "Then we design a W matrix with m-by-m:\n",
    "\n",
    "$$\n",
    "W = \\begin{bmatrix}\n",
    "   w^{(1)} &0   &\\dots &0\\\\\n",
    "   0 & w^{(2)}  &\\dots &0 \\\\\n",
    "   \\vdots &\\vdots &\\ddots &0\\\\\n",
    "   0 &0  &\\dots &w^{(m)}\\\\\n",
    "\\end{bmatrix}\n",
    "$$\n",
    "\n",
    "because of the fact that $z^Tz = \\sum_i z^2_i$:\n",
    "\n",
    "$$\n",
    "\\frac{1}{2} (X\\theta - Y)^T W (X\\theta - Y) = \\frac{1}{2} \\sum_{i=1}^m w^{(i)} (\\theta^T x^{(i)} - y^{(i)})^2\n",
    "$$"
   ]
  },
  {
   "cell_type": "markdown",
   "metadata": {},
   "source": [
    "### ii\n",
    "\n",
    "If all the $w^{(i)}$’s equal 1, then we saw in class that the normal equation is\n",
    "\n",
    "$$X^TX\\theta=X^TY \\tag{5.3}$$\n",
    "\n",
    "and that the value of θ that minimizes $J(\\theta)$ is given by $(X^TX)^{−1}X^T Y$. By finding\n",
    "the derivative $\\nabla_\\theta J(\\theta)$ and setting that to zero, generalize the normal equation to this weighted setting, and give the new value of θ that minimizes $J(\\theta)$ in closed form as a function of X, W and Y.\n",
    "\n",
    "### iii\n",
    "\n",
    "Suppose we have a training set $\\{(x^{(i)}, y^{(i)}); i=1...m\\}$, of m independent\n",
    "examples, but in which the $y^{(i)}$’s were observed with differing variances. Specifically,\n",
    "suppose that\n",
    "\n",
    "$$\n",
    "P(y^{(i)} \\mid x^{(i)} ; \\theta)= \\frac{1}{\\sqrt{2\\pi} \\sigma^{(i)}} exp(-\\frac{(\\theta^T x^{(i)} - y^{(i)})^2}{2 (\\sigma^{(i)})^2})\n",
    "$$"
   ]
  },
  {
   "cell_type": "markdown",
   "metadata": {},
   "source": [
    "## b. Visualizing the data\n",
    "\n",
    "### i\n",
    "\n",
    "Use the normal equations to implement (unweighted) linear regression ($y = \\theta^T x$) on the first training example (i.e. first non-header row). On one figure, plot both the raw data and the straight line resulting from your fit. State the optimal $\\theta$ resulting from the linear regression. Remember the intercept term (your optimal $\\theta$ should lie in $R^2$)."
   ]
  },
  {
   "cell_type": "code",
   "execution_count": 79,
   "metadata": {},
   "outputs": [],
   "source": [
    "import matplotlib.pyplot as plt\n",
    "\n",
    "def draw_one_example(x, y, theta):\n",
    "    h = 0.02\n",
    "    #x_min, x_max = x.min(), x.max()\n",
    "    #y_min, y_max = y.min() - 1, y.max() + 1\n",
    "    #xx, yy = np.meshgrid(np.arange(x_min, x_max, h), np.arange(y_min, y_max, h))\n",
    "    \n",
    "    # Draw data points \n",
    "    fig = plt.figure()\n",
    "    plt.scatter(x, y, s=10)\n",
    "    #plt.xlim(xx.min(), xx.max())\n",
    "    #plt.ylim(yy.min(), yy.max())\n",
    "\n",
    "    plt.ylabel('Flux')\n",
    "    plt.xlabel('Wavelength')\n",
    "\n",
    "    #print(\"x shape=\" + str(x.shape))\n",
    "    # Draw classifier line\n",
    "    x1 = x[:, 0]\n",
    "    y1 = theta[0] * x1 + theta[1]\n",
    "    x2 = x[:, -1]\n",
    "    y2 = theta[0] * x2 + theta[1]\n",
    "\n",
    "    #print(\"x1=\" + str(x1))\n",
    "    #print(\"x2=\" + str(x2))\n",
    "    plt.plot([x1, x2], [y1, y2], color='red')\n",
    "    plt.show()"
   ]
  },
  {
   "cell_type": "code",
   "execution_count": 80,
   "metadata": {
    "collapsed": true
   },
   "outputs": [],
   "source": [
    "def lw_linear_regression(x ,y):\n",
    "    ones_row = np.ones(x.shape)\n",
    "    data_x = np.row_stack((x, ones_row))\n",
    "    data_x = data_x.T\n",
    "    data_y = y.T\n",
    "    #print(\"data_x shape=\" + str(data_x.shape))\n",
    "    #print(\"data_x=\" + str(data_x))\n",
    "    xx = np.dot(data_x.T, data_x)\n",
    "    xx_inv = np.linalg.inv(xx)\n",
    "    temp = np.dot(xx_inv, data_x.T)\n",
    "    theta = np.dot(temp, data_y)\n",
    "    return theta"
   ]
  },
  {
   "cell_type": "code",
   "execution_count": 81,
   "metadata": {
    "scrolled": true
   },
   "outputs": [
    {
     "name": "stdout",
     "output_type": "stream",
     "text": [
      "theta=[[ -9.81122145e-04]\n",
      " [  2.51339906e+00]]\n"
     ]
    },
    {
     "data": {
      "image/png": "[encoded data removed]",
      "text/plain": [
       "<matplotlib.figure.Figure at 0x11a06f908>"
      ]
     },
     "metadata": {},
     "output_type": "display_data"
    }
   ],
   "source": [
    "axis_x_data = light_lambdas\n",
    "asix_Y_data = train_qso[0].reshape(1, -1)\n",
    "\n",
    "#print(\"axis_x_data shape=\" + str(axis_x_data.shape))\n",
    "#print(\"asix_Y_data shape=\" + str(asix_Y_data.shape))\n",
    "\n",
    "theta = lw_linear_regression(axis_x_data, asix_Y_data)\n",
    "\n",
    "print(\"theta=\" + str(theta))\n",
    "\n",
    "draw_one_example(axis_x_data, asix_Y_data, theta)"
   ]
  },
  {
   "cell_type": "markdown",
   "metadata": {},
   "source": [
    "### ii\n",
    "\n",
    "Implement locally weighted linear regression on the first training example.\n",
    "Use the normal equations you derived in part (a)(ii). On a different figure, plot both\n",
    "the raw data and the smooth curve resulting from your fit. When evaluating h(·) at a\n",
    "query point x, use weights\n",
    "\n",
    "$$\n",
    "w^{(i)} = exp(- \\frac{(x - x^{(i)})^2}{2\\tau^2})\n",
    "$$\n",
    "\n",
    "with bandwidth parameter $\\tau = 5$"
   ]
  },
  {
   "cell_type": "code",
   "execution_count": 85,
   "metadata": {
    "collapsed": true
   },
   "outputs": [],
   "source": [
    "def local_linear_regression(query_point, x ,y, tau):\n",
    "    ones_row = np.ones(x.shape)\n",
    "    data_x = np.row_stack((x, ones_row))\n",
    "    data_x = data_x.T\n",
    "    data_y = y.T\n",
    "    \n",
    "    # compute w matrix\n",
    "    w_xxi = np.power((query_point - x), 2)\n",
    "    w = np.exp(- w_xxi / (2*tau*tau))\n",
    "    #print(\"w shape=\" + str(w.shape))\n",
    "    W = np.diag(w.flatten())\n",
    "    #print(\"W shape=\" + str(W.shape))\n",
    "\n",
    "    xx = np.dot(data_x.T, W)\n",
    "    xx = np.dot(xx, data_x)\n",
    "    xx_inv = np.linalg.inv(xx)\n",
    "    temp = np.dot(xx_inv, data_x.T)\n",
    "    temp = np.dot(temp, W)\n",
    "    theta = np.dot(temp, data_y)\n",
    "    return theta[0]*query_point + theta[1]"
   ]
  },
  {
   "cell_type": "code",
   "execution_count": 86,
   "metadata": {
    "collapsed": true
   },
   "outputs": [],
   "source": [
    "def draw_one_lwr(x, y, tau):\n",
    "    # Draw data points \n",
    "    fig = plt.figure()\n",
    "    plt.scatter(x, y, s=10)\n",
    "\n",
    "    plt.ylabel('Flux')\n",
    "    plt.xlabel('Wavelength')\n",
    "\n",
    "    #print(\"x shape=\" + str(x.shape))\n",
    "    # Draw classifier line\n",
    "    m = x.shape[1]\n",
    "    x1 = x[:, 0]\n",
    "    y1 = local_linear_regression(x1, x, y, tau)\n",
    "    for index in range(1, m):\n",
    "        x2 = x[:, index]\n",
    "        y2 = local_linear_regression(x2, x, y, tau)\n",
    "        plt.plot([x1, x2], [y1, y2], color='red')\n",
    "        x1 = x2\n",
    "        y1 = y2\n",
    "\n",
    "    plt.show()"
   ]
  },
  {
   "cell_type": "code",
   "execution_count": 87,
   "metadata": {},
   "outputs": [
    {
     "data": {
      "image/png": "[encoded data removed]",
      "text/plain": [
       "<matplotlib.figure.Figure at 0x119fc91d0>"
      ]
     },
     "metadata": {},
     "output_type": "display_data"
    }
   ],
   "source": [
    "axis_x_data = light_lambdas\n",
    "asix_Y_data = train_qso[0].reshape(1, -1)\n",
    "draw_one_lwr(axis_x_data, asix_Y_data, 5)"
   ]
  },
  {
   "cell_type": "code",
   "execution_count": null,
   "metadata": {
    "collapsed": true
   },
   "outputs": [],
   "source": []
  }
 ],
 "metadata": {
  "kernelspec": {
   "display_name": "Python 3",
   "language": "python",
   "name": "python3"
  },
  "language_info": {
   "codemirror_mode": {
    "name": "ipython",
    "version": 3
   },
   "file_extension": ".py",
   "mimetype": "text/x-python",
   "name": "python",
   "nbconvert_exporter": "python",
   "pygments_lexer": "ipython3",
   "version": "3.6.2"
  }
 },
 "nbformat": 4,
 "nbformat_minor": 2
}
